{
 "cells": [
  {
   "cell_type": "code",
   "execution_count": 1,
   "id": "fd0071d8",
   "metadata": {},
   "outputs": [
    {
     "name": "stdout",
     "output_type": "stream",
     "text": [
      "True False\n"
     ]
    }
   ],
   "source": [
    "print(True,False)"
   ]
  },
  {
   "cell_type": "code",
   "execution_count": 23,
   "id": "422922f5",
   "metadata": {},
   "outputs": [],
   "source": [
    "my_str = \"tejash sharma\""
   ]
  },
  {
   "cell_type": "code",
   "execution_count": 24,
   "id": "02185201",
   "metadata": {},
   "outputs": [
    {
     "name": "stdout",
     "output_type": "stream",
     "text": [
      "Tejash sharma\n",
      "False\n",
      "False\n",
      "False\n",
      "False\n",
      "True\n",
      "True\n"
     ]
    }
   ],
   "source": [
    "print(my_str.capitalize())\n",
    "print(my_str.isalnum())\n",
    "print(my_str.isalpha())\n",
    "print(my_str.isdigit())\n",
    "print(my_str.startswith('T'))\n",
    "print(my_str.endswith('a'))\n",
    "print(my_str.islower())"
   ]
  },
  {
   "cell_type": "code",
   "execution_count": 25,
   "id": "1a92b321",
   "metadata": {},
   "outputs": [],
   "source": [
    "str_example = 'Hello World'\n",
    "my_str = 'Tejash'"
   ]
  },
  {
   "cell_type": "code",
   "execution_count": 26,
   "id": "b41154c1",
   "metadata": {},
   "outputs": [
    {
     "data": {
      "text/plain": [
       "True"
      ]
     },
     "execution_count": 26,
     "metadata": {},
     "output_type": "execute_result"
    }
   ],
   "source": [
    "my_str.isalpha() or str_example.isnum()"
   ]
  },
  {
   "cell_type": "markdown",
   "id": "12885c34",
   "metadata": {},
   "source": [
    "# Lists\n",
    "A list is mutable, or changeable, ordered sequence of elements."
   ]
  },
  {
   "cell_type": "code",
   "execution_count": 27,
   "id": "9114b3db",
   "metadata": {},
   "outputs": [],
   "source": [
    "lst_example = []"
   ]
  },
  {
   "cell_type": "code",
   "execution_count": 31,
   "id": "b77700f6",
   "metadata": {},
   "outputs": [
    {
     "data": {
      "text/plain": [
       "list"
      ]
     },
     "execution_count": 31,
     "metadata": {},
     "output_type": "execute_result"
    }
   ],
   "source": [
    "type(lst_example)"
   ]
  },
  {
   "cell_type": "code",
   "execution_count": 29,
   "id": "ec6ee39f",
   "metadata": {},
   "outputs": [],
   "source": [
    "lst = list()"
   ]
  },
  {
   "cell_type": "code",
   "execution_count": 30,
   "id": "df99bb42",
   "metadata": {},
   "outputs": [
    {
     "data": {
      "text/plain": [
       "list"
      ]
     },
     "execution_count": 30,
     "metadata": {},
     "output_type": "execute_result"
    }
   ],
   "source": [
    "type(lst)"
   ]
  },
  {
   "cell_type": "code",
   "execution_count": 35,
   "id": "4620f599",
   "metadata": {},
   "outputs": [],
   "source": [
    "lst = ['Mathematics','Chemistry',100,200,300]"
   ]
  },
  {
   "cell_type": "code",
   "execution_count": 36,
   "id": "52061499",
   "metadata": {},
   "outputs": [
    {
     "data": {
      "text/plain": [
       "5"
      ]
     },
     "execution_count": 36,
     "metadata": {},
     "output_type": "execute_result"
    }
   ],
   "source": [
    "len(lst)"
   ]
  },
  {
   "cell_type": "markdown",
   "id": "50fc9e17",
   "metadata": {},
   "source": [
    "# Append"
   ]
  },
  {
   "cell_type": "code",
   "execution_count": 33,
   "id": "e31fae2b",
   "metadata": {},
   "outputs": [],
   "source": [
    "lst.append(\"Tejash\")"
   ]
  },
  {
   "cell_type": "code",
   "execution_count": 34,
   "id": "a6bd590f",
   "metadata": {},
   "outputs": [
    {
     "data": {
      "text/plain": [
       "['Mathematics', 'Chemistry', 100, 200, 300, 'Tejash']"
      ]
     },
     "execution_count": 34,
     "metadata": {},
     "output_type": "execute_result"
    }
   ],
   "source": [
    "lst"
   ]
  },
  {
   "cell_type": "code",
   "execution_count": 37,
   "id": "d4bd6f52",
   "metadata": {},
   "outputs": [
    {
     "data": {
      "text/plain": [
       "['Chemistry', 100, 200, 300]"
      ]
     },
     "execution_count": 37,
     "metadata": {},
     "output_type": "execute_result"
    }
   ],
   "source": [
    "lst[1:]"
   ]
  },
  {
   "cell_type": "markdown",
   "id": "b8fdaa6b",
   "metadata": {},
   "source": [
    "# Insert"
   ]
  },
  {
   "cell_type": "code",
   "execution_count": 38,
   "id": "ab269e62",
   "metadata": {},
   "outputs": [],
   "source": [
    "lst.insert(1,\"Tejash\")"
   ]
  },
  {
   "cell_type": "code",
   "execution_count": 39,
   "id": "c711895f",
   "metadata": {},
   "outputs": [
    {
     "data": {
      "text/plain": [
       "['Mathematics', 'Tejash', 'Chemistry', 100, 200, 300]"
      ]
     },
     "execution_count": 39,
     "metadata": {},
     "output_type": "execute_result"
    }
   ],
   "source": [
    "lst"
   ]
  },
  {
   "cell_type": "code",
   "execution_count": 40,
   "id": "7149a899",
   "metadata": {},
   "outputs": [],
   "source": [
    "lst.append([\"HEllo\",\"World\"])"
   ]
  },
  {
   "cell_type": "code",
   "execution_count": 41,
   "id": "73d84dee",
   "metadata": {},
   "outputs": [
    {
     "data": {
      "text/plain": [
       "['Mathematics', 'Tejash', 'Chemistry', 100, 200, 300, ['HEllo', 'World']]"
      ]
     },
     "execution_count": 41,
     "metadata": {},
     "output_type": "execute_result"
    }
   ],
   "source": [
    "lst"
   ]
  },
  {
   "cell_type": "markdown",
   "id": "bc9a7e94",
   "metadata": {},
   "source": [
    "# Extend Method "
   ]
  },
  {
   "cell_type": "code",
   "execution_count": 1,
   "id": "2f56fc09",
   "metadata": {},
   "outputs": [],
   "source": [
    "lst = [1,2,3,4,5,6]"
   ]
  },
  {
   "cell_type": "code",
   "execution_count": 2,
   "id": "5fb1d0d1",
   "metadata": {},
   "outputs": [],
   "source": [
    "lst.extend([7,8])"
   ]
  },
  {
   "cell_type": "code",
   "execution_count": 3,
   "id": "4fdf285c",
   "metadata": {},
   "outputs": [
    {
     "data": {
      "text/plain": [
       "[1, 2, 3, 4, 5, 6, 7, 8]"
      ]
     },
     "execution_count": 3,
     "metadata": {},
     "output_type": "execute_result"
    }
   ],
   "source": [
    "lst    # The difference between the insesrt and extend is in extend the element is added saprately"
   ]
  },
  {
   "cell_type": "code",
   "execution_count": 4,
   "id": "b7ba95cc",
   "metadata": {},
   "outputs": [
    {
     "data": {
      "text/plain": [
       "36"
      ]
     },
     "execution_count": 4,
     "metadata": {},
     "output_type": "execute_result"
    }
   ],
   "source": [
    "sum(lst)"
   ]
  },
  {
   "cell_type": "code",
   "execution_count": 10,
   "id": "0ff3187d",
   "metadata": {},
   "outputs": [
    {
     "data": {
      "text/plain": [
       "6"
      ]
     },
     "execution_count": 10,
     "metadata": {},
     "output_type": "execute_result"
    }
   ],
   "source": [
    "lst.pop()  ## This fuction prints the last element of the list "
   ]
  },
  {
   "cell_type": "markdown",
   "id": "c0bc2cd9",
   "metadata": {},
   "source": [
    "# Set \n",
    "A set is an unorderd collection data type that is iterable, mutable, and has no duplicate elements. Python's set class \n",
    "represents the mathematical notion of set. This is based on a data structure known as a hash table "
   ]
  },
  {
   "cell_type": "code",
   "execution_count": 12,
   "id": "d35a3a8e",
   "metadata": {},
   "outputs": [
    {
     "name": "stdout",
     "output_type": "stream",
     "text": [
      "set()\n",
      "<class 'set'>\n"
     ]
    }
   ],
   "source": [
    "# Set does not support indexing\n",
    "set_var = set()\n",
    "print(set_var)\n",
    "print(type(set_var))"
   ]
  },
  {
   "cell_type": "code",
   "execution_count": 13,
   "id": "d17c7525",
   "metadata": {},
   "outputs": [],
   "source": [
    "set_var = {1,2,3,4}"
   ]
  },
  {
   "cell_type": "code",
   "execution_count": 14,
   "id": "15a7eae5",
   "metadata": {},
   "outputs": [
    {
     "data": {
      "text/plain": [
       "{1, 2, 3, 4}"
      ]
     },
     "execution_count": 14,
     "metadata": {},
     "output_type": "execute_result"
    }
   ],
   "source": [
    "set_var"
   ]
  },
  {
   "cell_type": "code",
   "execution_count": 15,
   "id": "dd8af0ea",
   "metadata": {},
   "outputs": [],
   "source": [
    "# But there is a onBuild method add which adds the element to the set\n",
    "set_var.add(\"Tejash\")"
   ]
  },
  {
   "cell_type": "code",
   "execution_count": 16,
   "id": "7102d75e",
   "metadata": {},
   "outputs": [
    {
     "data": {
      "text/plain": [
       "{1, 2, 3, 4, 'Tejash'}"
      ]
     },
     "execution_count": 16,
     "metadata": {},
     "output_type": "execute_result"
    }
   ],
   "source": [
    "set_var"
   ]
  },
  {
   "cell_type": "code",
   "execution_count": 18,
   "id": "2593493a",
   "metadata": {},
   "outputs": [],
   "source": [
    "set1 = {1,2,3,4,5}\n",
    "set2 = {1,2,3,4,6}"
   ]
  },
  {
   "cell_type": "code",
   "execution_count": 19,
   "id": "555aefc4",
   "metadata": {},
   "outputs": [
    {
     "data": {
      "text/plain": [
       "{1, 2, 3, 4}"
      ]
     },
     "execution_count": 19,
     "metadata": {},
     "output_type": "execute_result"
    }
   ],
   "source": [
    "set1.intersection(set2)"
   ]
  },
  {
   "cell_type": "code",
   "execution_count": 21,
   "id": "4733111d",
   "metadata": {},
   "outputs": [
    {
     "data": {
      "text/plain": [
       "{6}"
      ]
     },
     "execution_count": 21,
     "metadata": {},
     "output_type": "execute_result"
    }
   ],
   "source": [
    "set2.difference(set1)"
   ]
  },
  {
   "cell_type": "markdown",
   "id": "1c4ba15b",
   "metadata": {},
   "source": [
    "# Dictionaries \n",
    "A dictionaries is a collection which is unordered, unchangeable and indexed. In python dictionaries are written with\n",
    "curly brackets, and they have keys and values"
   ]
  },
  {
   "cell_type": "code",
   "execution_count": 22,
   "id": "ca0f43dd",
   "metadata": {},
   "outputs": [],
   "source": [
    "dic = {}"
   ]
  },
  {
   "cell_type": "code",
   "execution_count": 23,
   "id": "967b713f",
   "metadata": {},
   "outputs": [
    {
     "data": {
      "text/plain": [
       "dict"
      ]
     },
     "execution_count": 23,
     "metadata": {},
     "output_type": "execute_result"
    }
   ],
   "source": [
    "type(dic)"
   ]
  },
  {
   "cell_type": "code",
   "execution_count": 24,
   "id": "f342719e",
   "metadata": {},
   "outputs": [
    {
     "data": {
      "text/plain": [
       "set"
      ]
     },
     "execution_count": 24,
     "metadata": {},
     "output_type": "execute_result"
    }
   ],
   "source": [
    "dic = {1,2,3,4,5}\n",
    "type(dic)"
   ]
  },
  {
   "cell_type": "code",
   "execution_count": 26,
   "id": "3b3b3eb9",
   "metadata": {},
   "outputs": [],
   "source": [
    "my_dic = {\n",
    "    \"car1\" : \"Audi\",\n",
    "    \"car2\" : \"Ford\",\n",
    "    \"car3\" : \"Tata\",\n",
    "    \"car4\" : \"BMW\",\n",
    "}"
   ]
  },
  {
   "cell_type": "code",
   "execution_count": 27,
   "id": "124be04b",
   "metadata": {},
   "outputs": [
    {
     "data": {
      "text/plain": [
       "dict"
      ]
     },
     "execution_count": 27,
     "metadata": {},
     "output_type": "execute_result"
    }
   ],
   "source": [
    "type(my_dic)"
   ]
  },
  {
   "cell_type": "code",
   "execution_count": 30,
   "id": "951e257d",
   "metadata": {},
   "outputs": [
    {
     "data": {
      "text/plain": [
       "'Audi'"
      ]
     },
     "execution_count": 30,
     "metadata": {},
     "output_type": "execute_result"
    }
   ],
   "source": [
    "# access the item values based on keys\n",
    "my_dic[\"car1\"]"
   ]
  },
  {
   "cell_type": "code",
   "execution_count": 38,
   "id": "aafc08d4",
   "metadata": {},
   "outputs": [
    {
     "name": "stdout",
     "output_type": "stream",
     "text": [
      "car1\n",
      "car2\n",
      "car3\n",
      "car4\n"
     ]
    }
   ],
   "source": [
    "for i in my_dic:\n",
    "    print(i)"
   ]
  },
  {
   "cell_type": "code",
   "execution_count": 39,
   "id": "1c573c75",
   "metadata": {},
   "outputs": [
    {
     "name": "stdout",
     "output_type": "stream",
     "text": [
      "Audi\n",
      "Ford\n",
      "Tata\n",
      "BMW\n"
     ]
    }
   ],
   "source": [
    "for i in my_dic:\n",
    "    print(my_dic[i])"
   ]
  },
  {
   "cell_type": "code",
   "execution_count": 40,
   "id": "4156b076",
   "metadata": {},
   "outputs": [
    {
     "name": "stdout",
     "output_type": "stream",
     "text": [
      "Audi\n",
      "Ford\n",
      "Tata\n",
      "BMW\n"
     ]
    }
   ],
   "source": [
    "# Alternate for the above code\n",
    "for i in my_dic.values():\n",
    "    print(i)"
   ]
  },
  {
   "cell_type": "code",
   "execution_count": 41,
   "id": "3b76919a",
   "metadata": {},
   "outputs": [
    {
     "name": "stdout",
     "output_type": "stream",
     "text": [
      "('car1', 'Audi')\n",
      "('car2', 'Ford')\n",
      "('car3', 'Tata')\n",
      "('car4', 'BMW')\n"
     ]
    }
   ],
   "source": [
    "# We can also check both keys and values\n",
    "for i in my_dic.items():\n",
    "    print(i)"
   ]
  },
  {
   "cell_type": "code",
   "execution_count": 42,
   "id": "8b017ed7",
   "metadata": {},
   "outputs": [],
   "source": [
    "my_dic[\"car4\"]= \"jaguar\" "
   ]
  },
  {
   "cell_type": "code",
   "execution_count": 44,
   "id": "37b4c72a",
   "metadata": {},
   "outputs": [
    {
     "data": {
      "text/plain": [
       "{'car1': 'Audi', 'car2': 'Ford', 'car3': 'Tata', 'car4': 'jaguar'}"
      ]
     },
     "execution_count": 44,
     "metadata": {},
     "output_type": "execute_result"
    }
   ],
   "source": [
    "my_dic"
   ]
  },
  {
   "cell_type": "code",
   "execution_count": 47,
   "id": "2664fdeb",
   "metadata": {},
   "outputs": [
    {
     "name": "stdout",
     "output_type": "stream",
     "text": [
      "{'car1': 'Maruthi', 'car2': 'Ford', 'car3': 'Tata', 'car4': 'jaguar'}\n"
     ]
    }
   ],
   "source": [
    "# If we have to replace the key by other values \n",
    "my_dic[\"car1\"] = \"Maruthi\"\n",
    "print(my_dic)\n",
    "# it can be seen that the car1 value is replace by Maruthi"
   ]
  },
  {
   "cell_type": "markdown",
   "id": "1d86e15a",
   "metadata": {},
   "source": [
    "# Nested Dictionary"
   ]
  },
  {
   "cell_type": "code",
   "execution_count": 48,
   "id": "8528d39b",
   "metadata": {},
   "outputs": [],
   "source": [
    "car1_model = {\"Mercedes\":1960}\n",
    "car2_model = {\"Audi\":1970}\n",
    "car3_model = {\"Ambassador\":1980}\n",
    "\n",
    "car_type={\"car1\":car1_model,\"car2\":car2_model,\"car3\":car3_model}"
   ]
  },
  {
   "cell_type": "code",
   "execution_count": 49,
   "id": "71797241",
   "metadata": {},
   "outputs": [
    {
     "data": {
      "text/plain": [
       "{'car1': {'Mercedes': 1960},\n",
       " 'car2': {'Audi': 1970},\n",
       " 'car3': {'Ambassador': 1980}}"
      ]
     },
     "execution_count": 49,
     "metadata": {},
     "output_type": "execute_result"
    }
   ],
   "source": [
    "car_type"
   ]
  },
  {
   "cell_type": "code",
   "execution_count": 50,
   "id": "78c8131c",
   "metadata": {},
   "outputs": [
    {
     "name": "stdout",
     "output_type": "stream",
     "text": [
      "{'Mercedes': 1960}\n"
     ]
    }
   ],
   "source": [
    "# if we have to print details of car1\n",
    "print(car_type[\"car1\"])"
   ]
  },
  {
   "cell_type": "code",
   "execution_count": 51,
   "id": "606e8e03",
   "metadata": {},
   "outputs": [
    {
     "name": "stdout",
     "output_type": "stream",
     "text": [
      "1960\n"
     ]
    }
   ],
   "source": [
    "# # if we have to print only year of car1 \n",
    "print(car_type[\"car1\"][\"Mercedes\"])"
   ]
  },
  {
   "cell_type": "markdown",
   "id": "aa3137bc",
   "metadata": {},
   "source": [
    "# Tuple\n",
    "tuple is immutable"
   ]
  },
  {
   "cell_type": "code",
   "execution_count": 52,
   "id": "6d9dc86a",
   "metadata": {},
   "outputs": [],
   "source": [
    "my_tuple = tuple()"
   ]
  },
  {
   "cell_type": "code",
   "execution_count": 53,
   "id": "d1b2fb1f",
   "metadata": {},
   "outputs": [
    {
     "name": "stdout",
     "output_type": "stream",
     "text": [
      "<class 'tuple'>\n"
     ]
    }
   ],
   "source": [
    "print(type(my_tuple))"
   ]
  },
  {
   "cell_type": "code",
   "execution_count": 54,
   "id": "33dee270",
   "metadata": {},
   "outputs": [],
   "source": [
    "my_tuple = (\"Tejas\",\"xyz\",\"zyx\")"
   ]
  },
  {
   "cell_type": "code",
   "execution_count": 55,
   "id": "701559c6",
   "metadata": {},
   "outputs": [
    {
     "data": {
      "text/plain": [
       "('Tejas', 'xyz', 'zyx')"
      ]
     },
     "execution_count": 55,
     "metadata": {},
     "output_type": "execute_result"
    }
   ],
   "source": [
    "my_tuple"
   ]
  },
  {
   "cell_type": "code",
   "execution_count": 57,
   "id": "bde6c1b9",
   "metadata": {},
   "outputs": [
    {
     "data": {
      "text/plain": [
       "1"
      ]
     },
     "execution_count": 57,
     "metadata": {},
     "output_type": "execute_result"
    }
   ],
   "source": [
    "# inbuild functions\n",
    "my_tuple.count(\"xyz\")"
   ]
  },
  {
   "cell_type": "code",
   "execution_count": 58,
   "id": "2f8871ae",
   "metadata": {},
   "outputs": [
    {
     "data": {
      "text/plain": [
       "1"
      ]
     },
     "execution_count": 58,
     "metadata": {},
     "output_type": "execute_result"
    }
   ],
   "source": [
    "my_tuple.index(\"xyz\")"
   ]
  },
  {
   "cell_type": "code",
   "execution_count": null,
   "id": "3dc7d77d",
   "metadata": {},
   "outputs": [],
   "source": []
  }
 ],
 "metadata": {
  "kernelspec": {
   "display_name": "Python 3",
   "language": "python",
   "name": "python3"
  },
  "language_info": {
   "codemirror_mode": {
    "name": "ipython",
    "version": 3
   },
   "file_extension": ".py",
   "mimetype": "text/x-python",
   "name": "python",
   "nbconvert_exporter": "python",
   "pygments_lexer": "ipython3",
   "version": "3.8.8"
  }
 },
 "nbformat": 4,
 "nbformat_minor": 5
}
